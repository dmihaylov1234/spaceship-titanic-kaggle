{
 "cells": [
  {
   "cell_type": "markdown",
   "id": "e65954f9-9636-428b-a602-00b283e4edd6",
   "metadata": {},
   "source": [
    "### Introduction & Purpose \n",
    "\n",
    "The goal of this project is to predict whether passengers on the fictional Spaceship Titanic were transported to another dimension (`Transported`). We will load the data, preprocess it, train a machine learning model, and evaluate its performance."
   ]
  },
  {
   "cell_type": "markdown",
   "id": "9f0e49d7-05d8-482e-a2d7-c9ea5215403d",
   "metadata": {},
   "source": [
    "### Dataset Acquisition\n",
    "\n",
    "Dataset sourced from Kaggle's [Spaceship Titanic competition](https://www.kaggle.com/competitions/spaceship-titanic)."
   ]
  },
  {
   "cell_type": "code",
   "execution_count": 3,
   "id": "93df7cc1-445a-42b5-b69e-bc4b43c52b68",
   "metadata": {},
   "outputs": [
    {
     "name": "stdout",
     "output_type": "stream",
     "text": [
      "Train shape: (8693, 14)\n",
      "Test shape: (4277, 13)\n"
     ]
    }
   ],
   "source": [
    "import pandas as pd\n",
    "import numpy as np\n",
    "from sklearn.model_selection import train_test_split\n",
    "from sklearn.ensemble import RandomForestClassifier\n",
    "from sklearn.metrics import accuracy_score\n",
    "from sklearn.preprocessing import LabelEncoder\n",
    "from IPython.display import display, Markdown\n",
    "\n",
    "# Load training and test datasets\n",
    "train_df = pd.read_csv('../data/train.csv')\n",
    "test_df = pd.read_csv('../data/test.csv')\n",
    "\n",
    "print(\"Train shape:\", train_df.shape)\n",
    "print(\"Test shape:\", test_df.shape)\n",
    "train_df.head()\n",
    "\n",
    "# Supresses a warning that is irrelevant\n",
    "pd.set_option('future.no_silent_downcasting', True)"
   ]
  },
  {
   "cell_type": "markdown",
   "id": "d6bc71ba-a7a9-4f0a-8622-0486072e23f6",
   "metadata": {},
   "source": [
    "### Data Preprocessing\n",
    "\n",
    "We handle missing values and encode categorical features to prepare the data for machine learning models."
   ]
  },
  {
   "cell_type": "code",
   "execution_count": 5,
   "id": "777833a6-09cc-4be6-8bae-2c9f5e86b4ba",
   "metadata": {},
   "outputs": [],
   "source": [
    "# Fill missing values\n",
    "train_df.fillna({'HomePlanet': 'Earth', \n",
    "                 'CryoSleep': False, \n",
    "                 'Cabin': 'A/0/P', \n",
    "                 'Destination': 'TRAPPIST-1e',\n",
    "                 'Age': train_df['Age'].median(),\n",
    "                 'VIP': False,\n",
    "                 'RoomService': 0,\n",
    "                 'FoodCourt': 0,\n",
    "                 'ShoppingMall': 0,\n",
    "                 'Spa': 0,\n",
    "                 'VRDeck': 0,\n",
    "                 'Name': 'Unknown'}, inplace=True)\n",
    "\n",
    "test_df.fillna(train_df.median(numeric_only=True).to_dict(), inplace=True)\n",
    "test_df.fillna(train_df.mode().iloc[0].to_dict(), inplace=True)\n",
    "\n",
    "# Encode categorical columns\n",
    "cat_cols = ['HomePlanet', 'CryoSleep', 'Destination', 'VIP']\n",
    "le = LabelEncoder()\n",
    "for col in cat_cols:\n",
    "    train_df[col] = le.fit_transform(train_df[col])\n",
    "    test_df[col] = le.transform(test_df[col])"
   ]
  },
  {
   "cell_type": "markdown",
   "id": "02a8f50c-d8b6-4ce3-894c-f729e142470b",
   "metadata": {},
   "source": [
    "### Feature Selection\n",
    "\n",
    "We then select the most important features and define the target variable."
   ]
  },
  {
   "cell_type": "code",
   "execution_count": 7,
   "id": "eb29f09e-52a2-4286-a653-ce0c5672106b",
   "metadata": {},
   "outputs": [],
   "source": [
    "# Define features and target\n",
    "features = ['HomePlanet', 'CryoSleep', 'Destination', 'Age', 'VIP',\n",
    "            'RoomService', 'FoodCourt', 'ShoppingMall', 'Spa', 'VRDeck']\n",
    "\n",
    "X = train_df[features]\n",
    "y = train_df['Transported'].astype(int)"
   ]
  },
  {
   "cell_type": "markdown",
   "id": "4dc78995-a82d-41cd-b70f-be278ea4ed78",
   "metadata": {},
   "source": [
    "### Modeling Approach\n",
    "\n",
    "Next, we train a Random Forest Classifier and evaluate its performance using accuracy score."
   ]
  },
  {
   "cell_type": "code",
   "execution_count": 9,
   "id": "8643f504-53b5-4520-a3e8-2149674d48f3",
   "metadata": {},
   "outputs": [
    {
     "data": {
      "text/markdown": [
       "✅ **Random Forest model trained successfully!**"
      ],
      "text/plain": [
       "<IPython.core.display.Markdown object>"
      ]
     },
     "metadata": {},
     "output_type": "display_data"
    }
   ],
   "source": [
    "# Split data\n",
    "X_train, X_valid, y_train, y_valid = train_test_split(X, y, test_size=0.2, random_state=42)\n",
    "\n",
    "# Train Random Forest model\n",
    "model = RandomForestClassifier(n_estimators=100, random_state=42)\n",
    "model.fit(X_train, y_train)\n",
    "\n",
    "# GitHub struggles to render the HTML representation, this is a markdown version instead\n",
    "display(Markdown(\"✅ **Random Forest model trained successfully!**\"))"
   ]
  },
  {
   "cell_type": "markdown",
   "id": "8c055606-5be8-4a92-bf5f-a548820746d6",
   "metadata": {},
   "source": [
    "### Model Evaluation\n",
    "\n",
    "We can then evaluate our model using validation accuracy."
   ]
  },
  {
   "cell_type": "code",
   "execution_count": 11,
   "id": "3ca5e81b-7b85-449d-a367-d126d5f4fab4",
   "metadata": {},
   "outputs": [
    {
     "name": "stdout",
     "output_type": "stream",
     "text": [
      "Validation Accuracy: 0.777458309373203\n"
     ]
    }
   ],
   "source": [
    "# Predict on validation set\n",
    "y_pred = model.predict(X_valid)\n",
    "\n",
    "# Evaluate using accuracy\n",
    "accuracy = accuracy_score(y_valid, y_pred)\n",
    "print(\"Validation Accuracy:\", accuracy)"
   ]
  },
  {
   "cell_type": "markdown",
   "id": "d33801c3-5ec6-4567-8abd-5495c6f36739",
   "metadata": {},
   "source": [
    "### Make Predictions on Test Set\n",
    "\n",
    "Finally, we use the trained model to predict on the unseen test data and prepare a submission file for Kaggle."
   ]
  },
  {
   "cell_type": "code",
   "execution_count": 13,
   "id": "b487ea23-4dc3-4d98-acd9-feff5fe0323c",
   "metadata": {},
   "outputs": [
    {
     "name": "stdout",
     "output_type": "stream",
     "text": [
      "Submission file saved!\n"
     ]
    }
   ],
   "source": [
    "# Predict on test set\n",
    "test_preds = model.predict(test_df[features])\n",
    "test_preds = test_preds.astype(bool)\n",
    "\n",
    "# Create submission dataframe\n",
    "submission = pd.DataFrame({'PassengerId': test_df['PassengerId'], 'Transported': test_preds})\n",
    "\n",
    "# Save to CSV\n",
    "submission.to_csv('../submission.csv', index=False)\n",
    "print(\"Submission file saved!\")"
   ]
  },
  {
   "cell_type": "markdown",
   "id": "985639c4-629b-4e1b-aa42-db0b706eeedd",
   "metadata": {},
   "source": [
    "### Conclusion\n",
    "\n",
    "We trained a simple Random Forest model that achieved an initial validation accuracy. Future improvements could include feature engineering (like extracting deck info from Cabin), hyperparameter tuning, and experimenting with other models like XGBoost.\n",
    "\n",
    "Below is a screenshot of the submitted CSV to Kaggle, along with the score result from the submission:\n",
    "![SCREENSHOT](kaggle_result.png)"
   ]
  },
  {
   "cell_type": "code",
   "execution_count": null,
   "id": "4fc7d6f4-806f-42a8-bd69-0cf9bed73cd8",
   "metadata": {},
   "outputs": [],
   "source": []
  }
 ],
 "metadata": {
  "kernelspec": {
   "display_name": "Python 3 (ipykernel)",
   "language": "python",
   "name": "python3"
  },
  "language_info": {
   "codemirror_mode": {
    "name": "ipython",
    "version": 3
   },
   "file_extension": ".py",
   "mimetype": "text/x-python",
   "name": "python",
   "nbconvert_exporter": "python",
   "pygments_lexer": "ipython3",
   "version": "3.12.2"
  }
 },
 "nbformat": 4,
 "nbformat_minor": 5
}
